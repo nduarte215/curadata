{
  "nbformat": 4,
  "nbformat_minor": 0,
  "metadata": {
    "colab": {
      "provenance": []
    },
    "kernelspec": {
      "name": "python3",
      "display_name": "Python 3"
    },
    "language_info": {
      "name": "python"
    }
  },
  "cells": [
    {
      "cell_type": "code",
      "execution_count": 4,
      "metadata": {
        "colab": {
          "base_uri": "https://localhost:8080/",
          "height": 35
        },
        "id": "S0JxnwSibhe6",
        "outputId": "c36ddb80-a8b0-4021-8c14-1f0c3e3e3fa6"
      },
      "outputs": [
        {
          "output_type": "execute_result",
          "data": {
            "text/plain": [
              "'\\nCuranData Health Analysis Framework\\nBased on functional medicine principles \\n'"
            ],
            "application/vnd.google.colaboratory.intrinsic+json": {
              "type": "string"
            }
          },
          "metadata": {},
          "execution_count": 4
        }
      ],
      "source": [
        "\"\"\"\n",
        "CuranData Health Analysis Framework\n",
        "Based on functional medicine principles\n",
        "\"\"\""
      ]
    },
    {
      "cell_type": "code",
      "source": [
        "\"\"\"\n",
        "CuranData Health Analysis Framework\n",
        "Based on at home healing principles\n",
        "\"\"\"\n",
        "\n",
        "class HealthAnalyzer:\n",
        "    def __init__(self):\n",
        "        \"\"\"Initialize with your home healer framework\"\"\"\n",
        "        self.optimal_ranges = {\n",
        "            'vitamin_d': {'optimal': 50, 'lab_normal': 30},\n",
        "            'cholesterol_female': 200,\n",
        "            'cholesterol_male': 300,\n",
        "            'glucose': 90,\n",
        "            'hba1c': 5.0,\n",
        "            'wbc': 6,\n",
        "            'neutrophils': 60,\n",
        "            'lymphocytes': 30,\n",
        "            'monocytes_min': 4,\n",
        "            'monocytes_max': 7,\n",
        "            'basophils_max': 1\n",
        "        }\n",
        "\n",
        "        self.abcde_protocol = {\n",
        "            'A': '25,000 IU daily (75,000 when sick) - for eyes/vision',\n",
        "            'B': 'B50 Complex 2/day + B12 sublingual - all B vitamins',\n",
        "            'C': '1 tsp ascorbic acid in water - for immunity',\n",
        "            'D': '5000 IU D3 daily - for cognitive function',\n",
        "            'E': '400 IU mixed tocopherols'\n",
        "        }\n",
        "\n",
        "    def analyze_vitamin_d(self, value):\n",
        "        \"\"\"Analyze vitamin D using your framework\"\"\"\n",
        "        if value < 30:\n",
        "            return {\n",
        "                'status': 'Deficient',\n",
        "                'recommendation': 'Start 5000 IU D3 daily',\n",
        "                'priority': 'HIGH',\n",
        "                'explanation': 'Below lab normal - critical for cognitive function',\n",
        "                'retest': '8-12 weeks'\n",
        "            }\n",
        "        elif value < 50:\n",
        "            return {\n",
        "                'status': 'Suboptimal',\n",
        "                'recommendation': 'Continue 5000 IU D3 daily',\n",
        "                'priority': 'MEDIUM',\n",
        "                'explanation': 'Lab normal but below YOUR optimal for cognitive health',\n",
        "                'retest': '8-12 weeks'\n",
        "            }\n",
        "        else:\n",
        "            return {\n",
        "                'status': 'Optimal',\n",
        "                'recommendation': 'Maintain current intake',\n",
        "                'priority': 'LOW',\n",
        "                'explanation': 'Excellent level for cognitive function',\n",
        "                'retest': '6 months'\n",
        "            }\n",
        "\n",
        "    def analyze_cholesterol_pattern(self, total_cholesterol, hdl, ldl, gender):\n",
        "        \"\"\"Your cholesterol pattern: HDL = total/2, LDL = HDL/2\"\"\"\n",
        "        optimal_total = 200 if gender.lower() == 'female' else 300\n",
        "        expected_hdl = total_cholesterol / 2\n",
        "        expected_ldl = expected_hdl / 2\n",
        "\n",
        "        pattern_match = (abs(hdl - expected_hdl) < 10 and\n",
        "                        abs(ldl - expected_ldl) < 10)\n",
        "\n",
        "        return {\n",
        "            'total_status': 'Optimal' if total_cholesterol <= optimal_total else 'Above optimal',\n",
        "            'pattern_match': pattern_match,\n",
        "            'expected_hdl': expected_hdl,\n",
        "            'expected_ldl': expected_ldl,\n",
        "            'recommendation': 'Pattern looks good!' if pattern_match else 'Cholesterol ratios need investigation'\n",
        "        }\n",
        "\n",
        "    def analyze_immune_system(self, wbc, neutrophils, lymphocytes, monocytes=None, basophils=None):\n",
        "        \"\"\"Your precise immune system analysis\"\"\"\n",
        "        findings = []\n",
        "\n",
        "        # Your exact target values\n",
        "        if wbc != 6:\n",
        "            findings.append(f\"WBC at {wbc}, not 6 - indicates low grade infection\")\n",
        "        if neutrophils != 60:\n",
        "            findings.append(f\"Neutrophils at {neutrophils}%, not 60% - bacterial/fungal infection\")\n",
        "        if lymphocytes != 30:\n",
        "            findings.append(f\"Lymphocytes at {lymphocytes}%, not 30% - viral infection\")\n",
        "\n",
        "        # Food sensitivities and parasites\n",
        "        if monocytes and not (4 <= monocytes <= 7):\n",
        "            findings.append(f\"Monocytes at {monocytes}% - food sensitivities, parasites\")\n",
        "        if basophils and basophils > 1:\n",
        "            findings.append(f\"Basophils at {basophils}% - food sensitivities, parasites\")\n",
        "\n",
        "        if findings:\n",
        "            return {\n",
        "                'issues_found': findings,\n",
        "                'recommendation': 'Increase Vitamin C until loose stool, then back off',\n",
        "                'priority': 'HIGH',\n",
        "                'investigation': 'Consider food sensitivity testing if monocytes/basophils elevated'\n",
        "            }\n",
        "        else:\n",
        "            return {\n",
        "                'status': 'Immune system optimal',\n",
        "                'priority': 'LOW',\n",
        "                'maintenance': 'Continue basic ABCDE protocol'\n",
        "            }\n",
        "\n",
        "    def analyze_glucose(self, glucose, hba1c=None):\n",
        "        \"\"\"Your glucose analysis\"\"\"\n",
        "        result = {\n",
        "            'glucose_status': 'Optimal' if glucose <= 90 else 'Above optimal',\n",
        "            'glucose_value': glucose\n",
        "        }\n",
        "\n",
        "        if hba1c:\n",
        "            result['hba1c_status'] = 'Optimal' if hba1c <= 5.0 else 'Above optimal'\n",
        "            result['hba1c_value'] = hba1c\n",
        "\n",
        "        if glucose > 90:\n",
        "            result['recommendation'] = 'Monitor carb intake, increase fiber, consider intermittent fasting'\n",
        "            result['note'] = 'Check cholesterol pattern - often related'\n",
        "\n",
        "        return result"
      ],
      "metadata": {
        "id": "4ZLYrJjWdWAd"
      },
      "execution_count": 7,
      "outputs": []
    },
    {
      "cell_type": "code",
      "source": [
        "# Example usage\n",
        "if __name__ == \"__main__\":\n",
        "    analyzer = HealthAnalyzer()\n",
        "\n",
        "    # Test with sample values\n",
        "    vit_d_result = analyzer.analyze_vitamin_d(35)\n",
        "    print(\"Vitamin D Analysis:\", vit_d_result)\n",
        "\n",
        "    immune_result = analyzer.analyze_immune_system(7, 65, 25)\n",
        "    print(\"Immune Analysis:\", immune_result)"
      ],
      "metadata": {
        "colab": {
          "base_uri": "https://localhost:8080/"
        },
        "id": "-aoXqQ3Lde7w",
        "outputId": "3d5fd8b0-405d-42f8-85fe-05fa67aaac9f"
      },
      "execution_count": 9,
      "outputs": [
        {
          "output_type": "stream",
          "name": "stdout",
          "text": [
            "Vitamin D Analysis: {'status': 'Suboptimal', 'recommendation': 'Continue 5000 IU D3 daily', 'priority': 'MEDIUM', 'explanation': 'Lab normal but below YOUR optimal for cognitive health', 'retest': '8-12 weeks'}\n",
            "Immune Analysis: {'issues_found': ['WBC at 7, not 6 - indicates low grade infection', 'Neutrophils at 65%, not 60% - bacterial/fungal infection', 'Lymphocytes at 25%, not 30% - viral infection'], 'recommendation': 'Increase Vitamin C until loose stool, then back off', 'priority': 'HIGH', 'investigation': 'Consider food sensitivity testing if monocytes/basophils elevated'}\n"
          ]
        }
      ]
    }
  ]
}